{
  "nbformat": 4,
  "nbformat_minor": 0,
  "metadata": {
    "colab": {
      "name": "Лабораторная работа №6",
      "provenance": [],
      "collapsed_sections": []
    },
    "kernelspec": {
      "name": "python3",
      "display_name": "Python 3"
    }
  },
  "cells": [
    {
      "cell_type": "markdown",
      "metadata": {
        "id": "RTHJbIYaHKYz"
      },
      "source": [
        "![image.png](data:image/png;base64,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)"
      ]
    },
    {
      "cell_type": "markdown",
      "metadata": {
        "id": "woJoC_NZMc8T"
      },
      "source": [
        "# № 6.2.1"
      ]
    },
    {
      "cell_type": "code",
      "metadata": {
        "colab": {
          "base_uri": "https://localhost:8080/"
        },
        "id": "0hO2WCbbHK3Q",
        "outputId": "87666548-13c5-4386-84a3-0c8b45ede10b"
      },
      "source": [
        "def foo(a):\n",
        "    \"\"\"Пробежимся по списку с первого до последнего элемента и для каждого из\n",
        "      них проверим условие.\n",
        " \n",
        "    Сложность: N * O(len(a))\n",
        "    \"\"\"\n",
        "    for i in range(len(a), 0, -1):  # for i in range = O(len(a)) = O(N)\n",
        "        for j in range(1, i): # O(len(a))\n",
        "            if a[j-1] > a[j]:\n",
        "                a[j-1], a[j] = a[j], a[j-1] \n",
        "    return a\n",
        " \n",
        " \n",
        "a = [1, 2, 3, 4, 2, 1, 3, 4, 3, 5, -2, -2, 2, -2, 65, 2, 2]\n",
        "foo(a)"
      ],
      "execution_count": null,
      "outputs": [
        {
          "output_type": "execute_result",
          "data": {
            "text/plain": [
              "[-2, -2, -2, 1, 1, 2, 2, 2, 2, 2, 3, 3, 3, 4, 4, 5, 65]"
            ]
          },
          "metadata": {
            "tags": []
          },
          "execution_count": 19
        }
      ]
    },
    {
      "cell_type": "markdown",
      "metadata": {
        "id": "eF496NPWMsR0"
      },
      "source": [
        "# № 6.2.2"
      ]
    },
    {
      "cell_type": "code",
      "metadata": {
        "id": "KWn3O7OxMeRU"
      },
      "source": [
        "def foo(i):\n",
        "    \"\"\"Переводит число в строку\n",
        "    Параметры:\n",
        "        - i (int): число.\n",
        " \n",
        "    Сложность: O(1).\n",
        "    \"\"\"\n",
        "    digits = \"0123456789\"\n",
        "    if i == 0: \n",
        "        return \"0\"\n",
        "    result = \"\"\n",
        " \n",
        "    while i > 0: \n",
        "        result = digits[i%10] + result\n",
        "        i = i // 10 \n",
        "    return result"
      ],
      "execution_count": null,
      "outputs": []
    },
    {
      "cell_type": "markdown",
      "metadata": {
        "id": "HVUuATA8Mys0"
      },
      "source": [
        "# №6.2.3"
      ]
    },
    {
      "cell_type": "code",
      "metadata": {
        "id": "2_nZG4czOIdU"
      },
      "source": [
        "def foo(s):\n",
        "    \"\"\"Если s - строка из цифр, преобразует в целые числа и печатает их сумму, если нет, то выдает 0\n",
        "    Параметры:\n",
        "        - s (str): строка.\n",
        " \n",
        "    Сложность: O(N).\n",
        "    \"\"\"\n",
        "    val = 0\n",
        "    for c in s: # O(N)\n",
        "        if c.isdigit(): # isdigit - Эта функция возвращает true, если все символы в строке являются цифрами, и есть по крайней мере один символ, иначе false.\n",
        "            val += int(c) #\n",
        "    return val\n",
        " \n",
        "#s = 'Hi, World'\n",
        "#foo(s)\n",
        " \n",
        "#s1 = 'Hi, 1'\n",
        "#foo(s1)\n",
        " \n",
        "#s2 = '134'\n",
        "#foo(s2)"
      ],
      "execution_count": null,
      "outputs": []
    },
    {
      "cell_type": "markdown",
      "metadata": {
        "id": "ONxwmTYyM5g7"
      },
      "source": [
        "# №6.2.4"
      ]
    },
    {
      "cell_type": "code",
      "metadata": {
        "id": "OC6jAAwiOKIF",
        "colab": {
          "base_uri": "https://localhost:8080/"
        },
        "outputId": "3611be53-7579-488d-f2fd-6140e3690c08"
      },
      "source": [
        "def foo(n):\n",
        "    \"\"\"Создает список чисел, исключая предпоследнее.\n",
        " \n",
        "    Параметры:\n",
        "        - n (int): число.\n",
        " \n",
        "    Сложность: O(N+2).\n",
        "    \"\"\"\n",
        "    res = []\n",
        "    for i in range(1, n + 1): # O(1)\n",
        "        divisors = 0\n",
        "        j = 2\n",
        "        while j < i and divisors == 0: \n",
        "            if i % j == 0: # O(N)\n",
        "                divisors += 1\n",
        "            j += 1\n",
        " \n",
        "        if divisors == 0: \n",
        "            res.append(i) # O(N)\n",
        " \n",
        "    return res\n",
        " \n",
        "n = 7\n",
        "foo(n)"
      ],
      "execution_count": null,
      "outputs": [
        {
          "output_type": "execute_result",
          "data": {
            "text/plain": [
              "[1, 2, 3, 5, 7]"
            ]
          },
          "metadata": {
            "tags": []
          },
          "execution_count": 28
        }
      ]
    },
    {
      "cell_type": "markdown",
      "metadata": {
        "id": "dsGGf9eKM_pv"
      },
      "source": [
        "# №6.2.5"
      ]
    },
    {
      "cell_type": "code",
      "metadata": {
        "id": "5x-OPgz0OUdm"
      },
      "source": [
        "def foo(nums):\n",
        "    \"\"\"!!!\n",
        " \n",
        "    Параметры:\n",
        "        - nums (list): список.\n",
        " \n",
        "    Сложность: O(N).\n",
        "    \"\"\"\n",
        "    for x in nums: # O(N)\n",
        "        if x % 2 == 0:\n",
        "            return True\n",
        "        else:\n",
        "            return False"
      ],
      "execution_count": null,
      "outputs": []
    },
    {
      "cell_type": "markdown",
      "metadata": {
        "id": "6kS4ES2HNKf3"
      },
      "source": [
        "# № 6.2.6"
      ]
    },
    {
      "cell_type": "code",
      "metadata": {
        "id": "UvSxI-OUOd2P"
      },
      "source": [
        "def foo(nums):\r\n",
        "    \"\"\"!!!\r\n",
        "\r\n",
        "    Параметры:\r\n",
        "        - nums (list): список.\r\n",
        "\r\n",
        "    Сложность: O(N).\r\n",
        "    \"\"\"\r\n",
        "    return (nums[0] + nums[-1] ** 2) #O(N) - срез O(N) + O(N) = O(N)"
      ],
      "execution_count": null,
      "outputs": []
    }
  ]
}